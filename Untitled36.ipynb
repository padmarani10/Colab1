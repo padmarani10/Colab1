{
  "nbformat": 4,
  "nbformat_minor": 0,
  "metadata": {
    "colab": {
      "provenance": [],
      "authorship_tag": "ABX9TyMz6K2CO8ePLMbslvoUAA4r",
      "include_colab_link": true
    },
    "kernelspec": {
      "name": "python3",
      "display_name": "Python 3"
    },
    "language_info": {
      "name": "python"
    }
  },
  "cells": [
    {
      "cell_type": "markdown",
      "metadata": {
        "id": "view-in-github",
        "colab_type": "text"
      },
      "source": [
        "<a href=\"https://colab.research.google.com/github/padmarani10/Colab1/blob/main/Untitled36.ipynb\" target=\"_parent\"><img src=\"https://colab.research.google.com/assets/colab-badge.svg\" alt=\"Open In Colab\"/></a>"
      ]
    },
    {
      "cell_type": "code",
      "execution_count": 1,
      "metadata": {
        "colab": {
          "base_uri": "https://localhost:8080/"
        },
        "id": "XYZEAN0jh6Pv",
        "outputId": "ed747674-07cb-44e2-efda-cc87a02391a8"
      },
      "outputs": [
        {
          "output_type": "stream",
          "name": "stdout",
          "text": [
            "loaded Dataset:\n",
            "   PassengerId  Survived  Pclass  \\\n",
            "0            1         0       3   \n",
            "1            2         1       1   \n",
            "2            3         1       3   \n",
            "3            4         1       1   \n",
            "4            5         0       3   \n",
            "5            6         0       3   \n",
            "6            7         0       1   \n",
            "7            8         0       3   \n",
            "8            9         1       3   \n",
            "9           10         1       2   \n",
            "\n",
            "                                                Name     Sex   Age  SibSp  \\\n",
            "0                            Braund, Mr. Owen Harris    male  22.0      1   \n",
            "1  Cumings, Mrs. John Bradley (Florence Briggs Th...  female  38.0      1   \n",
            "2                             Heikkinen, Miss. Laina  female  26.0      0   \n",
            "3       Futrelle, Mrs. Jacques Heath (Lily May Peel)  female  35.0      1   \n",
            "4                           Allen, Mr. William Henry    male  35.0      0   \n",
            "5                                   Moran, Mr. James    male   NaN      0   \n",
            "6                            McCarthy, Mr. Timothy J    male  54.0      0   \n",
            "7                     Palsson, Master. Gosta Leonard    male   2.0      3   \n",
            "8  Johnson, Mrs. Oscar W (Elisabeth Vilhelmina Berg)  female  27.0      0   \n",
            "9                Nasser, Mrs. Nicholas (Adele Achem)  female  14.0      1   \n",
            "\n",
            "   Parch            Ticket     Fare Cabin Embarked  \n",
            "0      0         A/5 21171   7.2500   NaN        S  \n",
            "1      0          PC 17599  71.2833   C85        C  \n",
            "2      0  STON/O2. 3101282   7.9250   NaN        S  \n",
            "3      0            113803  53.1000  C123        S  \n",
            "4      0            373450   8.0500   NaN        S  \n",
            "5      0            330877   8.4583   NaN        Q  \n",
            "6      0             17463  51.8625   E46        S  \n",
            "7      1            349909  21.0750   NaN        S  \n",
            "8      2            347742  11.1333   NaN        S  \n",
            "9      0            237736  30.0708   NaN        C  \n"
          ]
        }
      ],
      "source": [
        "import pandas as pd\n",
        "titanic_df=pd.read_csv('/content/titanic.csv')\n",
        "print(\"loaded Dataset:\")\n",
        "print(titanic_df.head(10))"
      ]
    },
    {
      "cell_type": "code",
      "source": [
        "y = titanic_df['Survived']\n",
        "X = titanic_df.drop('Survived', axis=1)\n",
        "print(\"dependent variables:\")\n",
        "print(y.head(10))\n",
        "print(\"Independent variables:\")\n",
        "print(X.head(10))\n"
      ],
      "metadata": {
        "colab": {
          "base_uri": "https://localhost:8080/"
        },
        "id": "QdAmG_tQkGWE",
        "outputId": "a586260a-4efa-4b73-9f9f-defed88f94f7"
      },
      "execution_count": 9,
      "outputs": [
        {
          "output_type": "stream",
          "name": "stdout",
          "text": [
            "dependent variables:\n",
            "0    0\n",
            "1    1\n",
            "2    1\n",
            "3    1\n",
            "4    0\n",
            "5    0\n",
            "6    0\n",
            "7    0\n",
            "8    1\n",
            "9    1\n",
            "Name: Survived, dtype: int64\n",
            "Independent variables:\n",
            "   PassengerId  Pclass                                               Name  \\\n",
            "0            1       3                            Braund, Mr. Owen Harris   \n",
            "1            2       1  Cumings, Mrs. John Bradley (Florence Briggs Th...   \n",
            "2            3       3                             Heikkinen, Miss. Laina   \n",
            "3            4       1       Futrelle, Mrs. Jacques Heath (Lily May Peel)   \n",
            "4            5       3                           Allen, Mr. William Henry   \n",
            "5            6       3                                   Moran, Mr. James   \n",
            "6            7       1                            McCarthy, Mr. Timothy J   \n",
            "7            8       3                     Palsson, Master. Gosta Leonard   \n",
            "8            9       3  Johnson, Mrs. Oscar W (Elisabeth Vilhelmina Berg)   \n",
            "9           10       2                Nasser, Mrs. Nicholas (Adele Achem)   \n",
            "\n",
            "      Sex   Age  SibSp  Parch            Ticket     Fare Cabin Embarked  \n",
            "0    male  22.0      1      0         A/5 21171   7.2500   NaN        S  \n",
            "1  female  38.0      1      0          PC 17599  71.2833   C85        C  \n",
            "2  female  26.0      0      0  STON/O2. 3101282   7.9250   NaN        S  \n",
            "3  female  35.0      1      0            113803  53.1000  C123        S  \n",
            "4    male  35.0      0      0            373450   8.0500   NaN        S  \n",
            "5    male   NaN      0      0            330877   8.4583   NaN        Q  \n",
            "6    male  54.0      0      0             17463  51.8625   E46        S  \n",
            "7    male   2.0      3      1            349909  21.0750   NaN        S  \n",
            "8  female  27.0      0      2            347742  11.1333   NaN        S  \n",
            "9  female  14.0      1      0            237736  30.0708   NaN        C  \n"
          ]
        }
      ]
    },
    {
      "cell_type": "code",
      "source": [
        "missing_data=titanic_df.isnull().sum()\n",
        "print(missing_data)\n",
        "titanic_df_cleaned=titanic_df.dropna()\n",
        "titanic_df_cleaned=titanic_df.fillna(titanic_df.ffill())\n",
        "print(\"cleaned data\")\n",
        "print(titanic_df_cleaned)"
      ],
      "metadata": {
        "colab": {
          "base_uri": "https://localhost:8080/",
          "height": 436
        },
        "id": "fMLc0h8clA-0",
        "outputId": "bec0a33f-fbca-40ea-d55a-d12b246cb6f3"
      },
      "execution_count": 10,
      "outputs": [
        {
          "output_type": "stream",
          "name": "stdout",
          "text": [
            "PassengerId      0\n",
            "Survived         0\n",
            "Pclass           0\n",
            "Name             0\n",
            "Sex              0\n",
            "Age            177\n",
            "SibSp            0\n",
            "Parch            0\n",
            "Ticket           0\n",
            "Fare             0\n",
            "Cabin          687\n",
            "Embarked         2\n",
            "dtype: int64\n"
          ]
        },
        {
          "output_type": "error",
          "ename": "NameError",
          "evalue": "name 'mean' is not defined",
          "traceback": [
            "\u001b[0;31m---------------------------------------------------------------------------\u001b[0m",
            "\u001b[0;31mNameError\u001b[0m                                 Traceback (most recent call last)",
            "\u001b[0;32m<ipython-input-10-ce2c7c155fc9>\u001b[0m in \u001b[0;36m<cell line: 4>\u001b[0;34m()\u001b[0m\n\u001b[1;32m      2\u001b[0m \u001b[0mprint\u001b[0m\u001b[0;34m(\u001b[0m\u001b[0mmissing_data\u001b[0m\u001b[0;34m)\u001b[0m\u001b[0;34m\u001b[0m\u001b[0;34m\u001b[0m\u001b[0m\n\u001b[1;32m      3\u001b[0m \u001b[0mtitanic_df_cleaned\u001b[0m\u001b[0;34m=\u001b[0m\u001b[0mtitanic_df\u001b[0m\u001b[0;34m.\u001b[0m\u001b[0mdropna\u001b[0m\u001b[0;34m(\u001b[0m\u001b[0;34m)\u001b[0m\u001b[0;34m\u001b[0m\u001b[0;34m\u001b[0m\u001b[0m\n\u001b[0;32m----> 4\u001b[0;31m \u001b[0mtitanic_df_cleaned\u001b[0m\u001b[0;34m=\u001b[0m\u001b[0mtitanic_df\u001b[0m\u001b[0;34m.\u001b[0m\u001b[0mfillna\u001b[0m\u001b[0;34m(\u001b[0m\u001b[0mtitanic_df\u001b[0m\u001b[0;34m.\u001b[0m\u001b[0mffill\u001b[0m\u001b[0;34m(\u001b[0m\u001b[0mmean\u001b[0m\u001b[0;34m)\u001b[0m\u001b[0;34m)\u001b[0m\u001b[0;34m\u001b[0m\u001b[0;34m\u001b[0m\u001b[0m\n\u001b[0m\u001b[1;32m      5\u001b[0m \u001b[0mprint\u001b[0m\u001b[0;34m(\u001b[0m\u001b[0;34m\"cleaned data\"\u001b[0m\u001b[0;34m)\u001b[0m\u001b[0;34m\u001b[0m\u001b[0;34m\u001b[0m\u001b[0m\n\u001b[1;32m      6\u001b[0m \u001b[0mprint\u001b[0m\u001b[0;34m(\u001b[0m\u001b[0mtitanic_df_cleaned\u001b[0m\u001b[0;34m)\u001b[0m\u001b[0;34m\u001b[0m\u001b[0;34m\u001b[0m\u001b[0m\n",
            "\u001b[0;31mNameError\u001b[0m: name 'mean' is not defined"
          ]
        }
      ]
    }
  ]
}