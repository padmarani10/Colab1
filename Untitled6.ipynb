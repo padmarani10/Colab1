{
  "nbformat": 4,
  "nbformat_minor": 0,
  "metadata": {
    "colab": {
      "provenance": [],
      "authorship_tag": "ABX9TyPdRfCdpUnQNBrPZePP+xs0",
      "include_colab_link": true
    },
    "kernelspec": {
      "name": "python3",
      "display_name": "Python 3"
    },
    "language_info": {
      "name": "python"
    }
  },
  "cells": [
    {
      "cell_type": "markdown",
      "metadata": {
        "id": "view-in-github",
        "colab_type": "text"
      },
      "source": [
        "<a href=\"https://colab.research.google.com/github/padmarani10/Colab1/blob/main/Untitled6.ipynb\" target=\"_parent\"><img src=\"https://colab.research.google.com/assets/colab-badge.svg\" alt=\"Open In Colab\"/></a>"
      ]
    },
    {
      "cell_type": "code",
      "execution_count": 1,
      "metadata": {
        "colab": {
          "base_uri": "https://localhost:8080/"
        },
        "id": "APTQqonilayG",
        "outputId": "e8f64dcf-c378-43d5-f519-7129db99931b"
      },
      "outputs": [
        {
          "output_type": "execute_result",
          "data": {
            "text/plain": [
              "array([[2],\n",
              "       [5]])"
            ]
          },
          "metadata": {},
          "execution_count": 1
        }
      ],
      "source": [
        "import numpy as np\n",
        "data=([1,2,3],[4,5,6])\n",
        "arr=np.array(data)\n",
        "arr[:,1:2]"
      ]
    },
    {
      "cell_type": "code",
      "source": [
        "import numpy as np\n",
        "data=([[[1,2,3],[4,5,6],[7,8,9]],[[7,8,9],[7,5,4],[1,2,3]]])\n",
        "arr=np.array(data)\n",
        "arr[:,:2,1:]"
      ],
      "metadata": {
        "colab": {
          "base_uri": "https://localhost:8080/"
        },
        "id": "IFrou9oLlqCO",
        "outputId": "8cdbd7c9-6029-49d9-e8e4-109baa6ee54e"
      },
      "execution_count": 2,
      "outputs": [
        {
          "output_type": "execute_result",
          "data": {
            "text/plain": [
              "array([[[2, 3],\n",
              "        [5, 6]],\n",
              "\n",
              "       [[8, 9],\n",
              "        [5, 4]]])"
            ]
          },
          "metadata": {},
          "execution_count": 2
        }
      ]
    },
    {
      "cell_type": "code",
      "source": [
        "import numpy as np\n",
        "data=([[[1,2,3],[4,5,6],[7,8,9]],[[7,8,9],[7,5,4],[1,2,3]]])\n",
        "arr=np.array(data)\n",
        "arr2=np.transpose(arr,(1,0,2))\n",
        "arr2"
      ],
      "metadata": {
        "colab": {
          "base_uri": "https://localhost:8080/"
        },
        "id": "s7ZE76sRlueB",
        "outputId": "62e38ca0-66d4-4fe1-d380-5cb19d3d2021"
      },
      "execution_count": 3,
      "outputs": [
        {
          "output_type": "execute_result",
          "data": {
            "text/plain": [
              "array([[[1, 2, 3],\n",
              "        [7, 8, 9]],\n",
              "\n",
              "       [[4, 5, 6],\n",
              "        [7, 5, 4]],\n",
              "\n",
              "       [[7, 8, 9],\n",
              "        [1, 2, 3]]])"
            ]
          },
          "metadata": {},
          "execution_count": 3
        }
      ]
    },
    {
      "cell_type": "code",
      "source": [
        "import numpy as np\n",
        "data=([[1,2,3],[4,5,6]])\n",
        "arr=np.array(data)\n",
        "arr2=np.transpose(arr)\n",
        "arr2[1]"
      ],
      "metadata": {
        "colab": {
          "base_uri": "https://localhost:8080/"
        },
        "id": "Lmn7GsMClygk",
        "outputId": "7b3b59d7-fa4d-4f28-82a7-80a3f05573fe"
      },
      "execution_count": 4,
      "outputs": [
        {
          "output_type": "execute_result",
          "data": {
            "text/plain": [
              "array([2, 5])"
            ]
          },
          "metadata": {},
          "execution_count": 4
        }
      ]
    },
    {
      "cell_type": "code",
      "source": [
        "import numpy as np\n",
        "data=([[[1,2,3],[4,5,6],[7,8,9]],[[7,8,9],[7,5,4],[1,2,3]]])\n",
        "arr=np.array(data)\n",
        "arr[0,0:2,0:2]"
      ],
      "metadata": {
        "colab": {
          "base_uri": "https://localhost:8080/"
        },
        "id": "hZQK78iXl2h3",
        "outputId": "02cc63b2-86cc-4e87-e1ee-46277a73c43d"
      },
      "execution_count": 5,
      "outputs": [
        {
          "output_type": "execute_result",
          "data": {
            "text/plain": [
              "array([[1, 2],\n",
              "       [4, 5]])"
            ]
          },
          "metadata": {},
          "execution_count": 5
        }
      ]
    }
  ]
}