{
  "nbformat": 4,
  "nbformat_minor": 0,
  "metadata": {
    "colab": {
      "provenance": [],
      "authorship_tag": "ABX9TyOPstsdZQGmfJikqWK2b+al",
      "include_colab_link": true
    },
    "kernelspec": {
      "name": "python3",
      "display_name": "Python 3"
    },
    "language_info": {
      "name": "python"
    }
  },
  "cells": [
    {
      "cell_type": "markdown",
      "metadata": {
        "id": "view-in-github",
        "colab_type": "text"
      },
      "source": [
        "<a href=\"https://colab.research.google.com/github/padmarani10/Colab1/blob/main/Untitled14.ipynb\" target=\"_parent\"><img src=\"https://colab.research.google.com/assets/colab-badge.svg\" alt=\"Open In Colab\"/></a>"
      ]
    },
    {
      "cell_type": "code",
      "execution_count": 5,
      "metadata": {
        "colab": {
          "base_uri": "https://localhost:8080/"
        },
        "id": "ffWxaeOvLvVM",
        "outputId": "583ce5a7-c62f-4322-cfe7-4d69daae0240"
      },
      "outputs": [
        {
          "output_type": "stream",
          "name": "stdout",
          "text": [
            "pearson's correlation: 0.9999999999999998\n"
          ]
        }
      ],
      "source": [
        "import numpy as np\n",
        "def pearson_correlation(x, y):\n",
        "  mean_x=np.mean(x)\n",
        "  mean_y=np.mean(y)\n",
        "  covariance=np.sum((x-mean_x)*(y-mean_y))\n",
        "  std_dev_x = np.sqrt(np.sum((x - mean_x) ** 2))\n",
        "  std_dev_y = np.sqrt(np.sum((y - mean_y) ** 2))\n",
        "  correlation = covariance / (std_dev_x * std_dev_y)\n",
        "  return correlation\n",
        "x = np.array([1, 2, 3, 4, 5])\n",
        "y = np.array([2, 3, 4, 5, 6])\n",
        "print(\"pearson's correlation:\" ,pearson_correlation(x,y))\n"
      ]
    },
    {
      "cell_type": "code",
      "source": [
        "from sklearn.metrics.pairwise import cosine_similarity\n",
        "vector1=np.array([1,2,3])\n",
        "vector2=np.array([4,5,6])\n",
        "cosine_sim=cosine_similarity(vector1.reshape(1,-1),vector2.reshape(1,-1))\n",
        "print(\"cosine similarity:\", cosine_sim[0][0])"
      ],
      "metadata": {
        "colab": {
          "base_uri": "https://localhost:8080/"
        },
        "id": "8VIc-LlBNEAB",
        "outputId": "3e0ebed6-76fe-4e2c-f8af-3f1ba3fd785a"
      },
      "execution_count": 6,
      "outputs": [
        {
          "output_type": "stream",
          "name": "stdout",
          "text": [
            "cosine similarity: 0.9746318461970762\n"
          ]
        }
      ]
    },
    {
      "cell_type": "code",
      "source": [
        "def jaccard_similarity(set1,set2):\n",
        "  intersection = len(set1.intersection(set2))\n",
        "  union=len(set1.union(set2))\n",
        "  return intersection/union\n",
        "set1=set([1,2,3])\n",
        "set2=set([2,3,4])\n",
        "print(\"jaccard similarity:\",jaccard_similarity(set1,set2))"
      ],
      "metadata": {
        "colab": {
          "base_uri": "https://localhost:8080/"
        },
        "id": "2GBe0f7jQNsr",
        "outputId": "16eace1b-03a5-407e-bd6f-30f588d714b9"
      },
      "execution_count": 7,
      "outputs": [
        {
          "output_type": "stream",
          "name": "stdout",
          "text": [
            "jaccard similarity: 0.5\n"
          ]
        }
      ]
    },
    {
      "cell_type": "code",
      "source": [
        "def euclidean_distance(x,y):\n",
        "  return np.sqrt(np.sum((x-y)**2))\n",
        "point1=np.array([1,2,3])\n",
        "point2=np.array([4,5,6])\n",
        "print(\"Euclidean_distance:\",euclidean_distance(point1,point2))"
      ],
      "metadata": {
        "colab": {
          "base_uri": "https://localhost:8080/"
        },
        "id": "emzN8uE6RGVj",
        "outputId": "6ab5c3a7-9b57-4535-c8c3-2369d61b8872"
      },
      "execution_count": 8,
      "outputs": [
        {
          "output_type": "stream",
          "name": "stdout",
          "text": [
            "Euclidean_distance: 5.196152422706632\n"
          ]
        }
      ]
    }
  ]
}